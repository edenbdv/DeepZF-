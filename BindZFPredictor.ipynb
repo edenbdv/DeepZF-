{
 "nbformat": 4,
 "nbformat_minor": 0,
 "metadata": {
  "colab": {
   "provenance": []
  },
  "kernelspec": {
   "name": "python3",
   "display_name": "Python 3"
  },
  "language_info": {
   "name": "python"
  }
 },
 "cells": [
  {
   "cell_type": "code",
   "execution_count": null,
   "metadata": {
    "colab": {
     "base_uri": "https://localhost:8080/"
    },
    "id": "WZ79GJ3TxYi4",
    "outputId": "4bc21b12-bce5-4542-e11b-3b5a9d2bb27f",
    "pycharm": {
     "is_executing": true
    }
   },
   "outputs": [],
   "source": [
    "!apt update && apt upgrade\n",
    "!apt install python3.8\n",
    "!apt install python3-pip\n",
    "!apt install python3.8-distutils\n",
    "\n",
    "!update-alternatives --install /usr/bin/python3 python3 /usr/bin/python3.8 1\n",
    "\n",
    "!python -m pip install protein-bert\n",
    "!python -m pip install ipython\n",
    "!python -m pip install scikit-learn\n",
    "!python -m pip install keras==2.6.0\n",
    "!python -m pip install tensorflow==2.6.2\n",
    "\n",
    "# This version is required for keras 2.6.0\n",
    "!python -m pip install protobuf==3.20.*\n",
    "\n",
    "#Tensorflow 2.6.2 installs a much lower version of numpy which is incompatible with Pandas\n",
    "!python -m pip install numpy==1.20.3\n",
    "\n",
    "!git clone https://github.com/OrensteinLab/DeepZF.git DeepZF\n",
    "%cd DeepZF\n"
   ]
  },
  {
   "cell_type": "code",
   "source": [
    "!cat BindZF_predictor/code/x?? > BindZF_predictor/code/model.p"
   ],
   "metadata": {
    "id": "fF6RB8DA0iNj",
    "pycharm": {
     "is_executing": true
    }
   },
   "execution_count": null,
   "outputs": []
  },
  {
   "cell_type": "code",
   "source": [
    "!python BindZF_predictor/code/main_bindzfpredictor_predict.py -in Data/BindZFpredictor/40_zf_40_b.csv -out results.tsv -m BindZF_predictor/code/model.p -e BindZF_predictor/code/encoder.p -r 1\n",
    "!head --lines=10 results.tsv"
   ],
   "metadata": {
    "colab": {
     "base_uri": "https://localhost:8080/"
    },
    "id": "0BeVoZiF70QF",
    "outputId": "946d0d70-e22d-411d-b429-930be29eeffe"
   },
   "execution_count": null,
   "outputs": [
    {
     "output_type": "stream",
     "name": "stdout",
     "text": [
      "2023-08-12 18:45:36.542544: W tensorflow/stream_executor/platform/default/dso_loader.cc:64] Could not load dynamic library 'libcuda.so.1'; dlerror: libcuda.so.1: cannot open shared object file: No such file or directory; LD_LIBRARY_PATH: /usr/local/nvidia/lib:/usr/local/nvidia/lib64\n",
      "2023-08-12 18:45:36.542599: W tensorflow/stream_executor/cuda/cuda_driver.cc:269] failed call to cuInit: UNKNOWN ERROR (303)\n",
      "2023-08-12 18:45:36.542630: I tensorflow/stream_executor/cuda/cuda_diagnostics.cc:156] kernel driver does not appear to be running on this host (ee68cbd7daa9): /proc/driver/nvidia/version does not exist\n",
      "2023-08-12 18:45:36.728913: I tensorflow/core/platform/cpu_feature_guard.cc:142] This TensorFlow binary is optimized with oneAPI Deep Neural Network Library (oneDNN) to use the following CPU instructions in performance-critical operations:  AVX2 FMA\n",
      "To enable them in other operations, rebuild TensorFlow with the appropriate compiler flags.\n",
      "/usr/local/lib/python3.8/dist-packages/keras/optimizer_v2/optimizer_v2.py:355: UserWarning: The `lr` argument is deprecated, use `learning_rate` instead.\n",
      "  warnings.warn(\n",
      "2023-08-12 18:45:38.551842: I tensorflow/compiler/mlir/mlir_graph_optimization_pass.cc:185] None of the MLIR Optimization Passes are enabled (registered 2)\n",
      "8.063150644302368164e-01\n",
      "9.307501316070556641e-01\n",
      "9.225535392761230469e-01\n",
      "9.149041771888732910e-01\n",
      "9.194811582565307617e-01\n",
      "8.154460787773132324e-01\n",
      "6.807144880294799805e-01\n",
      "8.334884643554687500e-01\n",
      "9.257346391677856445e-01\n",
      "8.460783362388610840e-01\n"
     ]
    }
   ]
  }
 ]
}
